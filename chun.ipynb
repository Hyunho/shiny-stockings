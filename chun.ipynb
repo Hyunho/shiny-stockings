{
 "cells": [
  {
   "cell_type": "code",
   "execution_count": 1,
   "id": "double-martin",
   "metadata": {},
   "outputs": [],
   "source": [
    "import datetime\n",
    "from dateutil.relativedelta import relativedelta\n",
    "\n",
    "from marcap import marcap_data\n",
    "import pandas as pd\n",
    "\n",
    "def get_data(end_day):\n",
    "  year_from = day - relativedelta(years=1) - relativedelta(day=1)\n",
    "  year_to = day - relativedelta(day=1)\n",
    "  df = marcap_data(year_from, day)\n",
    "  # df= df[df['Code'].isin(fav_stocks.keys())]\n",
    "  \n",
    "  today_df = df.loc[str(day)]\n",
    "\n",
    "  df = df.loc[year_from : year_to]\n",
    "  df = df[['Code', 'Name', 'Close']]\n",
    "  gg = df.groupby(['Code'])\n",
    "  first_df = gg.first().rename(columns={'Close':'1-YrFirst'})\n",
    "  max_df = gg.max().rename(columns={'Close':'1-YrHigh'})\n",
    "  min_df = gg.min().rename(columns={'Close':'1-YrLow'})\n",
    "  \n",
    "  # merge aggregated values min/max/first\n",
    "  new_df = today_df\n",
    "  new_df = pd.merge(new_df, first_df)\n",
    "  new_df = pd.merge(new_df, min_df)\n",
    "  new_df = pd.merge(new_df, max_df)\n",
    "  \n",
    "  new_df['Result'] = False\n",
    "  for index, co in new_df.iterrows():\n",
    "    if co['1-YrFirst'] >= co['1-YrHigh']:\n",
    "      if co['1-YrFirst'] < co['Close']:\n",
    "        new_df.at[index,'Result'] = True\n",
    "  \n",
    "  mask = new_df.Result == True\n",
    "  return new_df.loc[mask,:]\n",
    "\n"
   ]
  },
  {
   "cell_type": "code",
   "execution_count": 2,
   "id": "round-temperature",
   "metadata": {},
   "outputs": [],
   "source": [
    "today = datetime.date.today()\n",
    "day = today - relativedelta(days=1)\n",
    "df = get_data(day)\n",
    "df.insert(0, 'date', day)"
   ]
  },
  {
   "cell_type": "code",
   "execution_count": 3,
   "id": "electrical-questionnaire",
   "metadata": {},
   "outputs": [
    {
     "data": {
      "text/html": [
       "<div>\n",
       "<style scoped>\n",
       "    .dataframe tbody tr th:only-of-type {\n",
       "        vertical-align: middle;\n",
       "    }\n",
       "\n",
       "    .dataframe tbody tr th {\n",
       "        vertical-align: top;\n",
       "    }\n",
       "\n",
       "    .dataframe thead th {\n",
       "        text-align: right;\n",
       "    }\n",
       "</style>\n",
       "<table border=\"1\" class=\"dataframe\">\n",
       "  <thead>\n",
       "    <tr style=\"text-align: right;\">\n",
       "      <th></th>\n",
       "      <th>date</th>\n",
       "      <th>Code</th>\n",
       "      <th>Name</th>\n",
       "      <th>Market</th>\n",
       "      <th>Dept</th>\n",
       "      <th>Close</th>\n",
       "      <th>ChangeCode</th>\n",
       "      <th>Changes</th>\n",
       "      <th>ChagesRatio</th>\n",
       "      <th>Open</th>\n",
       "      <th>...</th>\n",
       "      <th>Volume</th>\n",
       "      <th>Amount</th>\n",
       "      <th>Marcap</th>\n",
       "      <th>Stocks</th>\n",
       "      <th>MarketId</th>\n",
       "      <th>Rank</th>\n",
       "      <th>1-YrFirst</th>\n",
       "      <th>1-YrLow</th>\n",
       "      <th>1-YrHigh</th>\n",
       "      <th>Result</th>\n",
       "    </tr>\n",
       "  </thead>\n",
       "  <tbody>\n",
       "    <tr>\n",
       "      <th>287</th>\n",
       "      <td>2021-02-04</td>\n",
       "      <td>192400</td>\n",
       "      <td>쿠쿠홀딩스</td>\n",
       "      <td>KOSPI</td>\n",
       "      <td>NaN</td>\n",
       "      <td>109500</td>\n",
       "      <td>1</td>\n",
       "      <td>2500</td>\n",
       "      <td>2.34</td>\n",
       "      <td>107500</td>\n",
       "      <td>...</td>\n",
       "      <td>23867</td>\n",
       "      <td>2562898500</td>\n",
       "      <td>778811851500</td>\n",
       "      <td>7112437</td>\n",
       "      <td>STK</td>\n",
       "      <td>298</td>\n",
       "      <td>107000</td>\n",
       "      <td>65800</td>\n",
       "      <td>107000</td>\n",
       "      <td>True</td>\n",
       "    </tr>\n",
       "  </tbody>\n",
       "</table>\n",
       "<p>1 rows × 22 columns</p>\n",
       "</div>"
      ],
      "text/plain": [
       "           date    Code   Name Market Dept   Close ChangeCode  Changes  \\\n",
       "287  2021-02-04  192400  쿠쿠홀딩스  KOSPI  NaN  109500          1     2500   \n",
       "\n",
       "     ChagesRatio    Open  ...  Volume      Amount        Marcap   Stocks  \\\n",
       "287         2.34  107500  ...   23867  2562898500  778811851500  7112437   \n",
       "\n",
       "     MarketId  Rank 1-YrFirst  1-YrLow  1-YrHigh  Result  \n",
       "287       STK   298    107000    65800    107000    True  \n",
       "\n",
       "[1 rows x 22 columns]"
      ]
     },
     "execution_count": 3,
     "metadata": {},
     "output_type": "execute_result"
    }
   ],
   "source": [
    "day = day - relativedelta(days=1)\n",
    "day_df = get_data(day)\n",
    "day_df.insert(0, 'date', day)\n",
    "pd.concat([df, day_df]) \n"
   ]
  },
  {
   "cell_type": "code",
   "execution_count": 4,
   "id": "competent-sterling",
   "metadata": {},
   "outputs": [
    {
     "data": {
      "text/plain": [
       "<module 'pandas' from '/usr/local/lib/python3.6/site-packages/pandas/__init__.py'>"
      ]
     },
     "execution_count": 4,
     "metadata": {},
     "output_type": "execute_result"
    }
   ],
   "source": [
    "pd"
   ]
  },
  {
   "cell_type": "code",
   "execution_count": null,
   "id": "center-potato",
   "metadata": {},
   "outputs": [],
   "source": []
  }
 ],
 "metadata": {
  "kernelspec": {
   "display_name": "Python 3",
   "language": "python",
   "name": "python3"
  },
  "language_info": {
   "codemirror_mode": {
    "name": "ipython",
    "version": 3
   },
   "file_extension": ".py",
   "mimetype": "text/x-python",
   "name": "python",
   "nbconvert_exporter": "python",
   "pygments_lexer": "ipython3",
   "version": "3.6.12"
  }
 },
 "nbformat": 4,
 "nbformat_minor": 5
}
